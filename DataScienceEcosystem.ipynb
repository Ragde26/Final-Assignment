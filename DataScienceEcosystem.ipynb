{
 "cells": [
  {
   "cell_type": "markdown",
   "id": "7e13da1c",
   "metadata": {},
   "source": [
    "# Data Science Tools and Ecosystem"
   ]
  },
  {
   "cell_type": "markdown",
   "id": "52b4842e",
   "metadata": {},
   "source": [
    "In this notebook Data Science Tools and Ecosystem are summarized."
   ]
  },
  {
   "cell_type": "markdown",
   "id": "33b38e64",
   "metadata": {},
   "source": [
    "**Objectives:**\n",
    "* List popular languages for Data Science\n",
    "* Review Commonly used libraries\n",
    "* Review Commonly enviroments open source tools\n",
    "* How to make basic math operations"
   ]
  },
  {
   "cell_type": "markdown",
   "id": "6bcde985",
   "metadata": {},
   "source": [
    "Some of the popular languages that Data Scientists use are:\n",
    "1. Scala\n",
    "2. Java\n",
    "3. C++\n",
    "4. Julia\n",
    "5. PHP\n",
    "6. Visual Basic\n",
    "7. R\n",
    "8. Python\n",
    "9. SQL"
   ]
  },
  {
   "cell_type": "markdown",
   "id": "f2075300",
   "metadata": {},
   "source": [
    "### Some of the commonly used libraries used by Data Scientists include:\n",
    "#### Python\n",
    "1. Pandas ( Data Structures & Tools)\n",
    "2. NumPy (Arrays & matrices)\n",
    "3. Matplotlib (Plots &  Graph)\n",
    "4. Seaborn (Plots:heats maps,time series, violin plots)\n",
    "5. Scikit-learn (Machine Learning: Regression, Classification, Clustering\n",
    "6. TensorFlow (DeepLearning: Production and Deployment)\n",
    "7. Pytorch (Deep Learning: Regression, Classification)\n",
    "\n",
    "#### R\n",
    "1. ggplot2 (Data Visualization)\n",
    "2. Keras (Deep learning Neural networks)\n",
    "\n",
    "#### Scala\n",
    "1. Vegas (Statistical data visualizations)\n",
    "2. BigDL (Deep learning)"
   ]
  },
  {
   "cell_type": "markdown",
   "id": "669a0e0b",
   "metadata": {},
   "source": [
    "### Some development environment open source tools for Data Science"
   ]
  },
  {
   "cell_type": "markdown",
   "id": "36ebec11",
   "metadata": {},
   "source": [
    "|Data Science Tools|\n",
    "|-----------------------------|\n",
    "|Jupyter Notebooks|\n",
    "|Apache Zeppelin|\n",
    "|RStudio|\n"
   ]
  },
  {
   "cell_type": "markdown",
   "id": "961f1059",
   "metadata": {},
   "source": [
    "### Below are a few examples of evaluating arithmetic expressions in Python"
   ]
  },
  {
   "cell_type": "code",
   "execution_count": 4,
   "id": "45261f19",
   "metadata": {},
   "outputs": [
    {
     "data": {
      "text/plain": [
       "17"
      ]
     },
     "execution_count": 4,
     "metadata": {},
     "output_type": "execute_result"
    }
   ],
   "source": [
    "# This a simple arithmetic expression to mutiply then add integers\n",
    "(3*4)+5"
   ]
  },
  {
   "cell_type": "code",
   "execution_count": 6,
   "id": "bd80cc10",
   "metadata": {},
   "outputs": [
    {
     "data": {
      "text/plain": [
       "3.3333333333333335"
      ]
     },
     "execution_count": 6,
     "metadata": {},
     "output_type": "execute_result"
    }
   ],
   "source": [
    "# This will convert 200 minutes to hours by diving by 60\n",
    "200/60"
   ]
  },
  {
   "cell_type": "markdown",
   "id": "3031f532",
   "metadata": {},
   "source": [
    "## Author\n",
    "Edgar Gonzalez"
   ]
  }
 ],
 "metadata": {
  "kernelspec": {
   "display_name": "Python 3 (ipykernel)",
   "language": "python",
   "name": "python3"
  },
  "language_info": {
   "codemirror_mode": {
    "name": "ipython",
    "version": 3
   },
   "file_extension": ".py",
   "mimetype": "text/x-python",
   "name": "python",
   "nbconvert_exporter": "python",
   "pygments_lexer": "ipython3",
   "version": "3.11.5"
  }
 },
 "nbformat": 4,
 "nbformat_minor": 5
}
